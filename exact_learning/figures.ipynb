{
 "metadata": {
  "name": "figures"
 },
 "nbformat": 3,
 "nbformat_minor": 0,
 "worksheets": [
  {
   "cells": [
    {
     "cell_type": "code",
     "collapsed": false,
     "input": [
      "ls"
     ],
     "language": "python",
     "metadata": {},
     "outputs": [
      {
       "output_type": "stream",
       "stream": "stdout",
       "text": [
        "apalike.bst  article.cls  caching.pdf  Example.tex    paper.aux  paper.bib  paper.dvi  paper.pdf  redo_edge_features_0.05_timestamps_no_cache_heuristic.pickle  redo_edge_features_0.05_timestamps_qpbo_only_no_cache.pickle  SCITEPRESS.sty  todo.rst\r\n",
        "apalike.sty  caching.eps  example.bib  figures.ipynb  paper.bbl  paper.blg  paper.log  paper.tex  redo_edge_features_0.05_timestamps.pickle                     SCITEPRESS.eps                                                test.png\r\n"
       ]
      }
     ],
     "prompt_number": 1
    },
    {
     "cell_type": "code",
     "collapsed": false,
     "input": [],
     "language": "python",
     "metadata": {},
     "outputs": [],
     "prompt_number": 1
    },
    {
     "cell_type": "code",
     "collapsed": false,
     "input": [
      "#!/usr/bin/python\n",
      "import sys\n",
      "import cPickle\n",
      "\n",
      "import matplotlib.pyplot as plt\n",
      "import numpy as np\n",
      "\n",
      "import pystruct.models as problems\n",
      "#from sklearn.metrics import confusion_matrix\n",
      "\n",
      "from pystruct.utils import SaveLogger\n",
      "\n",
      "#from pystruct.msrc.msrc_helpers import plot_results, add_edge_features, add_edges\n",
      "#from hierarchical_crf import make_hierarchical_data\n",
      "#from hierarchical_segmentation import plot_results_hierarchy\n",
      "\n",
      "#from kraehenbuehl_potentials import add_kraehenbuehl_features\n",
      "\n",
      "\n",
      "def load_curves(filename = \"redo_edge_features_0.05_timestamps_no_cache_heuristic.pickle\"):\n",
      "    ssvm = SaveLogger(file_name=\"data/\" + filename).load()\n",
      "    print(ssvm)\n",
      "\n",
      "    print(\"Iterations: %d\" % len(ssvm.objective_curve_))\n",
      "    print(\"Objective: %f\" % ssvm.objective_curve_[-1])\n",
      "    inference_run = ~np.array(ssvm.cached_constraint_)\n",
      "    print(\"Gap: %f\" %\n",
      "          (np.array(ssvm.primal_objective_curve_)[inference_run][-1] -\n",
      "           ssvm.objective_curve_[-1]))\n",
      "\n",
      "    \n",
      "    \n",
      "    steps = getattr(ssvm, 'timestamps_',\n",
      "                    np.arange(-2, len(ssvm.objective_curve_)))[2:]\n",
      "    steps = np.array(steps)\n",
      "    objective_curve = ssvm.objective_curve_\n",
      "\n",
      "    minlen = min(len(steps), len(objective_curve))\n",
      "    inference_run = inference_run[:minlen]\n",
      "    steps = steps[:minlen]\n",
      "    objective_curve = objective_curve[:minlen]\n",
      "    primal_objective_curve = np.array(\n",
      "        ssvm.primal_objective_curve_[:minlen])\n",
      "    fewer_steps = steps[::ssvm.show_loss_every]\n",
      "    if len(fewer_steps) < len(ssvm.loss_curve_):\n",
      "        fewer_steps = np.hstack([fewer_steps, [steps[-1]]])\n",
      "    \n",
      "    return (steps, objective_curve), (steps[~inference_run], primal_objective_curve[~inference_run]), (steps[inference_run],\n",
      "             primal_objective_curve[inference_run]), (fewer_steps, ssvm.loss_curve_)\n",
      "    \n",
      "    \n"
     ],
     "language": "python",
     "metadata": {},
     "outputs": [],
     "prompt_number": 16
    },
    {
     "cell_type": "code",
     "collapsed": false,
     "input": [
      "curves_heuristic = load_curves(\"redo_edge_features_0.05_timestamps.pickle\")\n",
      "curves_no_cache = load_curves(\"redo_edge_features_0.05_timestamps_qpbo_only_no_cache.pickle\")\n",
      "curvestuff = load_curves()\n",
      "\n",
      "problems.edge_feature_graph_crf"
     ],
     "language": "python",
     "metadata": {},
     "outputs": [
      {
       "output_type": "stream",
       "stream": "stdout",
       "text": [
        "OneSlackSSVM(C=0.05, break_on_bad=False, cache_tol=auto,\n",
        "       check_constraints=True, inactive_threshold=1e-05,\n",
        "       inactive_window=50, inference_cache=50,\n",
        "       logger=SaveLogger(file_name=\"redo_edge_features_0.05_timestamps.pickle\", save_every=100),\n",
        "       max_iter=100000, model=None, n_jobs=-1, positive_constraint=None,\n",
        "       show_loss_every=50, switch_to=None, tol=0.001, verbose=3)\n",
        "Iterations: 1687\n",
        "Objective: 32.972801\n",
        "Gap: 0.022411\n",
        "OneSlackSSVM(C=0.05, break_on_bad=False, cache_tol=auto,\n",
        "       check_constraints=True, inactive_threshold=1e-05,\n",
        "       inactive_window=50, inference_cache=0,\n",
        "       logger=SaveLogger(file_name=\"redo_edge_features_0.05_timestamps_qpbo_only_no_cache.pickle\", save_every=100),\n",
        "       max_iter=100000, model=None, n_jobs=-1, positive_constraint=None,\n",
        "       show_loss_every=50, switch_to=None, tol=0.001, verbose=3)\n",
        "Iterations: 846\n",
        "Objective: 32.950072\n",
        "Gap: 0.244539\n",
        "OneSlackSSVM(C=0.05, break_on_bad=False, cache_tol=None,\n",
        "       check_constraints=True, inactive_threshold=1e-05,\n",
        "       inactive_window=50, inference_cache=50,\n",
        "       logger=SaveLogger(file_name=\"redo_edge_features_0.05_timestamps_no_cache_heuristic.pickle\", save_every=100),\n",
        "       max_iter=100000, model=None, n_jobs=-1, positive_constraint=None,\n",
        "       show_loss_every=50, switch_to=None, tol=0.001, verbose=3)"
       ]
      },
      {
       "output_type": "stream",
       "stream": "stdout",
       "text": [
        "\n",
        "Iterations: 9962\n",
        "Objective: 32.942960\n",
        "Gap: -0.041447\n"
       ]
      },
      {
       "output_type": "pyout",
       "prompt_number": 17,
       "text": [
        "<module 'pystruct.models.edge_feature_graph_crf' from '/home/local/lamueller/checkout/pystruct/pystruct/models/edge_feature_graph_crf.pyc'>"
       ]
      }
     ],
     "prompt_number": 17
    },
    {
     "cell_type": "code",
     "collapsed": false,
     "input": [
      "\n",
      "fig, axes = plt.subplots(1, 1, figsize=(10, 5))\n",
      "axes = [axes]\n",
      "\n",
      "\n",
      "\n",
      "axes[0].plot(curves_heuristic[0][0], curves_heuristic[0][1], \"blue\", label=\"our heuristic\")\n",
      "axes[0].plot(curves_heuristic[1][0], curves_heuristic[1][1], \".\", c='darkblue', markersize=2, markeredgewidth=0)\n",
      "axes[0].plot(curves_heuristic[2][0], curves_heuristic[2][1], 'o', color='blue', markersize=3, markeredgewidth=0)\n",
      "\n",
      "\n",
      "axes[0].plot(curves_no_cache[0][0], curves_no_cache[0][1], \"green\", label=\"no cache\")\n",
      "axes[0].plot(curves_no_cache[1][0], curves_no_cache[1][1], \".\", c='darkgreen', markersize=2, markeredgewidth=0)\n",
      "axes[0].plot(curves_no_cache[2][0], curves_no_cache[2][1], 'o', color='green', markersize=3, markeredgewidth=0)\n",
      "\n",
      "axes[0].plot(curvestuff[0][0], curvestuff[0][1], \"red\", label=\"Joachims et al.\")\n",
      "axes[0].plot(curvestuff[1][0], curvestuff[1][1], \".\", c='darkred', markersize=2, markeredgewidth=0)\n",
      "axes[0].plot(curvestuff[2][0], curvestuff[2][1], 'o', color='red', markersize=3, markeredgewidth=0)\n",
      "\n",
      "axes[0].set_yscale('log')\n",
      "axes[0].set_xlabel(\"training time (s)\")\n",
      "axes[0].set_ylabel(\"objective\")\n",
      "plt.legend()\n",
      "\n",
      "\n",
      "plt.xlim(0, curves_no_cache[2][0][-1])\n",
      "plt.ylim(5 * 10**-1, 2 * 10**3)\n",
      "\n",
      "plt.savefig(\"caching.png\", dpi=500, bbox_inches='tight')\n",
      "plt.savefig(\"caching.eps\", eps=500, bbox_inches='tight')\n",
      "\n",
      "#axes[1].plot(curvestuff[3][0], curvestuff[3][1])\n",
      "plt.show()"
     ],
     "language": "python",
     "metadata": {},
     "outputs": [
      {
       "output_type": "display_data",
       "png": "[encoded data removed]",
       "text": [
        "<matplotlib.figure.Figure at 0x9f28fac>"
       ]
      }
     ],
     "prompt_number": 19
    },
    {
     "cell_type": "code",
     "collapsed": false,
     "input": [
      "\n",
      "print(curves_no_cache[0][0][-1], curves_no_cache[0][1][-1])"
     ],
     "language": "python",
     "metadata": {},
     "outputs": []
    },
    {
     "cell_type": "code",
     "collapsed": false,
     "input": [
      "print(curvestuff[0][0][-1], curvestuff[0][1][-1])"
     ],
     "language": "python",
     "metadata": {},
     "outputs": []
    },
    {
     "cell_type": "code",
     "collapsed": false,
     "input": [
      "print(curves_heuristic[0][0][-1], curves_heuristic[0][1][-1])"
     ],
     "language": "python",
     "metadata": {},
     "outputs": []
    },
    {
     "cell_type": "code",
     "collapsed": false,
     "input": [],
     "language": "python",
     "metadata": {},
     "outputs": []
    }
   ],
   "metadata": {}
  }
 ]
}